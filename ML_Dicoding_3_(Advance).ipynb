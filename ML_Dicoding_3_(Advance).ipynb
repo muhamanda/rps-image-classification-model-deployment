{
  "nbformat": 4,
  "nbformat_minor": 0,
  "metadata": {
    "colab": {
      "name": "ML_Dicoding 3 (Advance).ipynb",
      "provenance": [],
      "collapsed_sections": []
    },
    "kernelspec": {
      "name": "python3",
      "display_name": "Python 3"
    },
    "language_info": {
      "name": "python"
    },
    "widgets": {
      "application/vnd.jupyter.widget-state+json": {
        "a2788f00da444528a020205878e48a72": {
          "model_module": "@jupyter-widgets/controls",
          "model_name": "HBoxModel",
          "state": {
            "_view_name": "HBoxView",
            "_dom_classes": [],
            "_model_name": "HBoxModel",
            "_view_module": "@jupyter-widgets/controls",
            "_model_module_version": "1.5.0",
            "_view_count": null,
            "_view_module_version": "1.5.0",
            "box_style": "",
            "layout": "IPY_MODEL_c752d65828d74281927dbe5764ac083a",
            "_model_module": "@jupyter-widgets/controls",
            "children": [
              "IPY_MODEL_bf27f507ce4c4285a00ac963895884f8",
              "IPY_MODEL_d9b18c26291249be98af94c4d0f6fb92"
            ]
          }
        },
        "c752d65828d74281927dbe5764ac083a": {
          "model_module": "@jupyter-widgets/base",
          "model_name": "LayoutModel",
          "state": {
            "_view_name": "LayoutView",
            "grid_template_rows": null,
            "right": null,
            "justify_content": null,
            "_view_module": "@jupyter-widgets/base",
            "overflow": null,
            "_model_module_version": "1.2.0",
            "_view_count": null,
            "flex_flow": null,
            "width": null,
            "min_width": null,
            "border": null,
            "align_items": null,
            "bottom": null,
            "_model_module": "@jupyter-widgets/base",
            "top": null,
            "grid_column": null,
            "overflow_y": null,
            "overflow_x": null,
            "grid_auto_flow": null,
            "grid_area": null,
            "grid_template_columns": null,
            "flex": null,
            "_model_name": "LayoutModel",
            "justify_items": null,
            "grid_row": null,
            "max_height": null,
            "align_content": null,
            "visibility": null,
            "align_self": null,
            "height": null,
            "min_height": null,
            "padding": null,
            "grid_auto_rows": null,
            "grid_gap": null,
            "max_width": null,
            "order": null,
            "_view_module_version": "1.2.0",
            "grid_template_areas": null,
            "object_position": null,
            "object_fit": null,
            "grid_auto_columns": null,
            "margin": null,
            "display": null,
            "left": null
          }
        },
        "bf27f507ce4c4285a00ac963895884f8": {
          "model_module": "@jupyter-widgets/controls",
          "model_name": "FloatProgressModel",
          "state": {
            "_view_name": "ProgressView",
            "style": "IPY_MODEL_94b3362940e8438bb920d83225859ea9",
            "_dom_classes": [],
            "description": "",
            "_model_name": "FloatProgressModel",
            "bar_style": "success",
            "max": 1,
            "_view_module": "@jupyter-widgets/controls",
            "_model_module_version": "1.5.0",
            "value": 1,
            "_view_count": null,
            "_view_module_version": "1.5.0",
            "orientation": "horizontal",
            "min": 0,
            "description_tooltip": null,
            "_model_module": "@jupyter-widgets/controls",
            "layout": "IPY_MODEL_c62879ac8f204dfa992bc6622e5af277"
          }
        },
        "d9b18c26291249be98af94c4d0f6fb92": {
          "model_module": "@jupyter-widgets/controls",
          "model_name": "HTMLModel",
          "state": {
            "_view_name": "HTMLView",
            "style": "IPY_MODEL_f99cd86952b646708d114b89a25492f6",
            "_dom_classes": [],
            "description": "",
            "_model_name": "HTMLModel",
            "placeholder": "​",
            "_view_module": "@jupyter-widgets/controls",
            "_model_module_version": "1.5.0",
            "value": " 2188/? [00:00&lt;00:00, 3695.73it/s]",
            "_view_count": null,
            "_view_module_version": "1.5.0",
            "description_tooltip": null,
            "_model_module": "@jupyter-widgets/controls",
            "layout": "IPY_MODEL_8850d9a621374925abe8dceb6217cd5f"
          }
        },
        "94b3362940e8438bb920d83225859ea9": {
          "model_module": "@jupyter-widgets/controls",
          "model_name": "ProgressStyleModel",
          "state": {
            "_view_name": "StyleView",
            "_model_name": "ProgressStyleModel",
            "description_width": "initial",
            "_view_module": "@jupyter-widgets/base",
            "_model_module_version": "1.5.0",
            "_view_count": null,
            "_view_module_version": "1.2.0",
            "bar_color": null,
            "_model_module": "@jupyter-widgets/controls"
          }
        },
        "c62879ac8f204dfa992bc6622e5af277": {
          "model_module": "@jupyter-widgets/base",
          "model_name": "LayoutModel",
          "state": {
            "_view_name": "LayoutView",
            "grid_template_rows": null,
            "right": null,
            "justify_content": null,
            "_view_module": "@jupyter-widgets/base",
            "overflow": null,
            "_model_module_version": "1.2.0",
            "_view_count": null,
            "flex_flow": null,
            "width": null,
            "min_width": null,
            "border": null,
            "align_items": null,
            "bottom": null,
            "_model_module": "@jupyter-widgets/base",
            "top": null,
            "grid_column": null,
            "overflow_y": null,
            "overflow_x": null,
            "grid_auto_flow": null,
            "grid_area": null,
            "grid_template_columns": null,
            "flex": null,
            "_model_name": "LayoutModel",
            "justify_items": null,
            "grid_row": null,
            "max_height": null,
            "align_content": null,
            "visibility": null,
            "align_self": null,
            "height": null,
            "min_height": null,
            "padding": null,
            "grid_auto_rows": null,
            "grid_gap": null,
            "max_width": null,
            "order": null,
            "_view_module_version": "1.2.0",
            "grid_template_areas": null,
            "object_position": null,
            "object_fit": null,
            "grid_auto_columns": null,
            "margin": null,
            "display": null,
            "left": null
          }
        },
        "f99cd86952b646708d114b89a25492f6": {
          "model_module": "@jupyter-widgets/controls",
          "model_name": "DescriptionStyleModel",
          "state": {
            "_view_name": "StyleView",
            "_model_name": "DescriptionStyleModel",
            "description_width": "",
            "_view_module": "@jupyter-widgets/base",
            "_model_module_version": "1.5.0",
            "_view_count": null,
            "_view_module_version": "1.2.0",
            "_model_module": "@jupyter-widgets/controls"
          }
        },
        "8850d9a621374925abe8dceb6217cd5f": {
          "model_module": "@jupyter-widgets/base",
          "model_name": "LayoutModel",
          "state": {
            "_view_name": "LayoutView",
            "grid_template_rows": null,
            "right": null,
            "justify_content": null,
            "_view_module": "@jupyter-widgets/base",
            "overflow": null,
            "_model_module_version": "1.2.0",
            "_view_count": null,
            "flex_flow": null,
            "width": null,
            "min_width": null,
            "border": null,
            "align_items": null,
            "bottom": null,
            "_model_module": "@jupyter-widgets/base",
            "top": null,
            "grid_column": null,
            "overflow_y": null,
            "overflow_x": null,
            "grid_auto_flow": null,
            "grid_area": null,
            "grid_template_columns": null,
            "flex": null,
            "_model_name": "LayoutModel",
            "justify_items": null,
            "grid_row": null,
            "max_height": null,
            "align_content": null,
            "visibility": null,
            "align_self": null,
            "height": null,
            "min_height": null,
            "padding": null,
            "grid_auto_rows": null,
            "grid_gap": null,
            "max_width": null,
            "order": null,
            "_view_module_version": "1.2.0",
            "grid_template_areas": null,
            "object_position": null,
            "object_fit": null,
            "grid_auto_columns": null,
            "margin": null,
            "display": null,
            "left": null
          }
        }
      }
    }
  },
  "cells": [
    {
      "cell_type": "markdown",
      "metadata": {
        "id": "jp2k0vSO8Nso"
      },
      "source": [
        "### **Nama: Muhammad Amanda**\n",
        "### **Username: muh_amanda** \n",
        "### **Kota: Kota Jakarta Timur, DKI Jakarta**\n",
        "### *Waktu bergabung pada 12 May 2020*\n",
        "\n",
        "# Proyek Akhir : Image Classification Model Deployment"
      ]
    },
    {
      "cell_type": "code",
      "metadata": {
        "id": "q1G-bsiw8EJD"
      },
      "source": [
        "# Import library yang dibutuhkan\n",
        "import zipfile,os\n",
        "import shutil\n",
        "import pandas as pd\n",
        "from sklearn.model_selection import train_test_split\n",
        "from tqdm.notebook import tqdm as tq\n",
        "import tensorflow as tf\n",
        "from tensorflow.keras.preprocessing.image import ImageDataGenerator\n",
        "import time\n",
        "from keras.callbacks import ModelCheckpoint\n",
        "import matplotlib.pyplot as plt\n",
        "import numpy as np\n",
        "from google.colab import files\n",
        "from keras.preprocessing import image\n",
        "import matplotlib.image as mpimg\n",
        "%matplotlib inline"
      ],
      "execution_count": 8,
      "outputs": []
    },
    {
      "cell_type": "code",
      "metadata": {
        "colab": {
          "base_uri": "https://localhost:8080/"
        },
        "id": "laCw9ENm8S8v",
        "outputId": "69e04f32-2523-4b6d-bbc5-192c34b40eb7"
      },
      "source": [
        "!wget --no-check-certificate \\\n",
        "  https://dicodingacademy.blob.core.windows.net/picodiploma/ml_pemula_academy/rockpaperscissors.zip \\\n",
        "  -O /tmp/rockpaperscissors.zip\n",
        "\n"
      ],
      "execution_count": 2,
      "outputs": [
        {
          "output_type": "stream",
          "text": [
            "--2021-06-28 23:29:38--  https://dicodingacademy.blob.core.windows.net/picodiploma/ml_pemula_academy/rockpaperscissors.zip\n",
            "Resolving dicodingacademy.blob.core.windows.net (dicodingacademy.blob.core.windows.net)... 52.239.197.36\n",
            "Connecting to dicodingacademy.blob.core.windows.net (dicodingacademy.blob.core.windows.net)|52.239.197.36|:443... connected.\n",
            "HTTP request sent, awaiting response... 200 OK\n",
            "Length: 322873683 (308M) [application/zip]\n",
            "Saving to: ‘/tmp/rockpaperscissors.zip’\n",
            "\n",
            "/tmp/rockpapersciss 100%[===================>] 307.92M  5.84MB/s    in 63s     \n",
            "\n",
            "2021-06-28 23:30:42 (4.85 MB/s) - ‘/tmp/rockpaperscissors.zip’ saved [322873683/322873683]\n",
            "\n"
          ],
          "name": "stdout"
        }
      ]
    },
    {
      "cell_type": "code",
      "metadata": {
        "id": "zsz-0cPc8vrQ"
      },
      "source": [
        "local_zip = '/tmp/rockpaperscissors.zip'\n",
        "zip_ref = zipfile.ZipFile(local_zip, 'r')\n",
        "zip_ref.extractall('/tmp')\n",
        "zip_ref.close()\n",
        " \n",
        "base_dir = '/tmp/rockpaperscissors'\n",
        "paper_dir = os.path.join(base_dir, 'paper')\n",
        "rock_dir = os.path.join(base_dir, 'rock')\n",
        "scissors_dir = os.path.join(base_dir, 'scissors')\n",
        "\n"
      ],
      "execution_count": 3,
      "outputs": []
    },
    {
      "cell_type": "code",
      "metadata": {
        "colab": {
          "base_uri": "https://localhost:8080/",
          "height": 238
        },
        "id": "ONy0EDGM85Zg",
        "outputId": "c9f752c5-803d-4d30-dd0a-559cee666e5c"
      },
      "source": [
        "dir_path = '/tmp/rockpaperscissors/rps-cv-images'\n",
        "try: \n",
        "  shutil.rmtree(dir_path)\n",
        "except OSError as e:\n",
        "  print(\"Error: %s: %s\" % (dir_path, e.strerror))\n",
        "\n",
        "file_path = '/tmp/rockpaperscissors/README_rpc-cv-images.txt'\n",
        "try: \n",
        "  os.remove(file_path)\n",
        "except OSError as e:\n",
        "  print(\"Error: %s: %s\" % (dir_path, e.strerror))\n",
        "\n",
        "  file_name = []\n",
        "tag = []\n",
        "full_path = []\n",
        "for path, subdirs, files in os.walk(base_dir):\n",
        "    for name in files:\n",
        "        full_path.append(os.path.join(path, name)) \n",
        "        tag.append(path.split('/')[-1])        \n",
        "        file_name.append(name)\n",
        "\n",
        "\n",
        "df = pd.DataFrame({\"path\":full_path,'file_name':file_name,\"tag\":tag})\n",
        "df.groupby(['tag']).size()\n",
        "\n",
        "df.head()"
      ],
      "execution_count": 5,
      "outputs": [
        {
          "output_type": "stream",
          "text": [
            "Error: /tmp/rockpaperscissors/rps-cv-images: No such file or directory\n",
            "Error: /tmp/rockpaperscissors/rps-cv-images: No such file or directory\n"
          ],
          "name": "stdout"
        },
        {
          "output_type": "execute_result",
          "data": {
            "text/html": [
              "<div>\n",
              "<style scoped>\n",
              "    .dataframe tbody tr th:only-of-type {\n",
              "        vertical-align: middle;\n",
              "    }\n",
              "\n",
              "    .dataframe tbody tr th {\n",
              "        vertical-align: top;\n",
              "    }\n",
              "\n",
              "    .dataframe thead th {\n",
              "        text-align: right;\n",
              "    }\n",
              "</style>\n",
              "<table border=\"1\" class=\"dataframe\">\n",
              "  <thead>\n",
              "    <tr style=\"text-align: right;\">\n",
              "      <th></th>\n",
              "      <th>path</th>\n",
              "      <th>file_name</th>\n",
              "      <th>tag</th>\n",
              "    </tr>\n",
              "  </thead>\n",
              "  <tbody>\n",
              "    <tr>\n",
              "      <th>0</th>\n",
              "      <td>/tmp/rockpaperscissors/scissors/XWF7hCQnD6qfJU...</td>\n",
              "      <td>XWF7hCQnD6qfJUCI.png</td>\n",
              "      <td>scissors</td>\n",
              "    </tr>\n",
              "    <tr>\n",
              "      <th>1</th>\n",
              "      <td>/tmp/rockpaperscissors/scissors/dkrdiLQ61q78gi...</td>\n",
              "      <td>dkrdiLQ61q78gidZ.png</td>\n",
              "      <td>scissors</td>\n",
              "    </tr>\n",
              "    <tr>\n",
              "      <th>2</th>\n",
              "      <td>/tmp/rockpaperscissors/scissors/AIdBo3sdoduT52...</td>\n",
              "      <td>AIdBo3sdoduT52KJ.png</td>\n",
              "      <td>scissors</td>\n",
              "    </tr>\n",
              "    <tr>\n",
              "      <th>3</th>\n",
              "      <td>/tmp/rockpaperscissors/scissors/HGhHQ3uNh7XFl2...</td>\n",
              "      <td>HGhHQ3uNh7XFl2ar.png</td>\n",
              "      <td>scissors</td>\n",
              "    </tr>\n",
              "    <tr>\n",
              "      <th>4</th>\n",
              "      <td>/tmp/rockpaperscissors/scissors/L6O2HLgQIo7Xdf...</td>\n",
              "      <td>L6O2HLgQIo7XdfdU.png</td>\n",
              "      <td>scissors</td>\n",
              "    </tr>\n",
              "  </tbody>\n",
              "</table>\n",
              "</div>"
            ],
            "text/plain": [
              "                                                path  ...       tag\n",
              "0  /tmp/rockpaperscissors/scissors/XWF7hCQnD6qfJU...  ...  scissors\n",
              "1  /tmp/rockpaperscissors/scissors/dkrdiLQ61q78gi...  ...  scissors\n",
              "2  /tmp/rockpaperscissors/scissors/AIdBo3sdoduT52...  ...  scissors\n",
              "3  /tmp/rockpaperscissors/scissors/HGhHQ3uNh7XFl2...  ...  scissors\n",
              "4  /tmp/rockpaperscissors/scissors/L6O2HLgQIo7Xdf...  ...  scissors\n",
              "\n",
              "[5 rows x 3 columns]"
            ]
          },
          "metadata": {
            "tags": []
          },
          "execution_count": 5
        }
      ]
    },
    {
      "cell_type": "markdown",
      "metadata": {
        "id": "cc8PICVkCv4h"
      },
      "source": [
        "## Membagi Dataset menjadi Data Train dan Data Validation\n",
        "Data Train sebesar 80% dan Data Validation sebesar 20%"
      ]
    },
    {
      "cell_type": "code",
      "metadata": {
        "colab": {
          "base_uri": "https://localhost:8080/",
          "height": 100,
          "referenced_widgets": [
            "a2788f00da444528a020205878e48a72",
            "c752d65828d74281927dbe5764ac083a",
            "bf27f507ce4c4285a00ac963895884f8",
            "d9b18c26291249be98af94c4d0f6fb92",
            "94b3362940e8438bb920d83225859ea9",
            "c62879ac8f204dfa992bc6622e5af277",
            "f99cd86952b646708d114b89a25492f6",
            "8850d9a621374925abe8dceb6217cd5f"
          ]
        },
        "id": "FK7YnSXO8VMH",
        "outputId": "3613bf4d-74a8-42fa-d35b-e4452944b67a"
      },
      "source": [
        "X= df['path']\n",
        "y= df['tag']\n",
        "\n",
        "X_train, X_val, y_train, y_val = train_test_split(\n",
        "    X, y, test_size=0.20, random_state=42)\n",
        "\n",
        "df_tr = pd.DataFrame({'path':X_train\n",
        "              ,'tag':y_train\n",
        "             ,'set':'train'})\n",
        "\n",
        "df_val = pd.DataFrame({'path':X_val\n",
        "              ,'tag':y_val\n",
        "             ,'set':'validation'})\n",
        "df_all = df_tr.append(df_val).reset_index(drop=1)\n",
        "\n",
        "datasource_path = '/tmp/rockpaperscissors'\n",
        "dataset_path = \"/tmp/dataset\"\n",
        "for index, row in tq(df_all.iterrows()):\n",
        "\n",
        "    file_path = row['path']\n",
        "    if os.path.exists(file_path) == False:\n",
        "            file_path = os.path.join(datasource_path,row['tag'],row['image'].split('.')[0])            \n",
        "\n",
        "    if os.path.exists(os.path.join(dataset_path,row['set'],row['tag'])) == False:\n",
        "        os.makedirs(os.path.join(dataset_path,row['set'],row['tag']))\n",
        "\n",
        "    destination_file_name = file_path.split('/')[-1]\n",
        "    file_dest = os.path.join(dataset_path,row['set'],row['tag'],destination_file_name)\n",
        "\n",
        "    if os.path.exists(file_dest) == False:\n",
        "        shutil.copy2(file_path,file_dest)\n",
        "\n",
        "train_dir = os.path.join(dataset_path, 'train')\n",
        "validation_dir = os.path.join(dataset_path, 'validation')\n",
        "\n",
        "train_datagen = ImageDataGenerator(\n",
        "                    rescale=1./255,\n",
        "                    rotation_range=20,\n",
        "                    horizontal_flip=True,\n",
        "                    vertical_flip=True,\n",
        "                    shear_range = 0.2,\n",
        "                    fill_mode = 'nearest')\n",
        " \n",
        "validation_datagen = ImageDataGenerator(\n",
        "                    rescale=1./255,\n",
        "                    rotation_range=20,\n",
        "                    horizontal_flip=True,\n",
        "                    vertical_flip=True,\n",
        "                    shear_range = 0.2,\n",
        "                    fill_mode = 'nearest')\n",
        "\n",
        "train_generator = train_datagen.flow_from_directory(\n",
        "        train_dir, \n",
        "        target_size=(150, 150), \n",
        "        batch_size=32,\n",
        "        class_mode='categorical',\n",
        "        shuffle=True)\n",
        " \n",
        "validation_generator = validation_datagen.flow_from_directory(\n",
        "        validation_dir, \n",
        "        target_size=(150, 150), \n",
        "        batch_size=32, \n",
        "        class_mode='categorical',\n",
        "        shuffle=True)\n",
        "\n",
        "model = tf.keras.models.Sequential([\n",
        "    tf.keras.layers.Conv2D(32, (3,3), activation='relu', input_shape=(150, 150, 3)),\n",
        "    tf.keras.layers.MaxPooling2D(2, 2),\n",
        "    tf.keras.layers.Conv2D(64, (3,3), activation='relu'),\n",
        "    tf.keras.layers.MaxPooling2D(2,2),\n",
        "    tf.keras.layers.Flatten(),\n",
        "    tf.keras.layers.Dense(512, activation='relu'),\n",
        "    tf.keras.layers.Dense(3, activation='softmax')\n",
        "])\n",
        "\n",
        "model.compile(loss='categorical_crossentropy',\n",
        "              optimizer=tf.optimizers.Adam(),\n",
        "              metrics=['accuracy'])"
      ],
      "execution_count": 9,
      "outputs": [
        {
          "output_type": "display_data",
          "data": {
            "application/vnd.jupyter.widget-view+json": {
              "model_id": "a2788f00da444528a020205878e48a72",
              "version_minor": 0,
              "version_major": 2
            },
            "text/plain": [
              "HBox(children=(FloatProgress(value=1.0, bar_style='info', max=1.0), HTML(value='')))"
            ]
          },
          "metadata": {
            "tags": []
          }
        },
        {
          "output_type": "stream",
          "text": [
            "\n",
            "Found 1750 images belonging to 3 classes.\n",
            "Found 438 images belonging to 3 classes.\n"
          ],
          "name": "stdout"
        }
      ]
    },
    {
      "cell_type": "markdown",
      "metadata": {
        "id": "9GnQBD2QCnOz"
      },
      "source": [
        "# Latih Model\n",
        "Selain melatih model, juga mengukur waktu pelatihan model dan menyimpan epoch terbaik berdasarkan `val_accuracy` terbesar. Dalam hal ini, model telah cukup baik dengan memperoleh akurasi dari data validation dengan sangat besar."
      ]
    },
    {
      "cell_type": "code",
      "metadata": {
        "colab": {
          "base_uri": "https://localhost:8080/"
        },
        "id": "Kpe5YU-v8XtX",
        "outputId": "63fd27b3-e618-42c1-890d-6caea5d77d25"
      },
      "source": [
        "import time\n",
        "from keras.callbacks import ModelCheckpoint\n",
        "checkpoint = ModelCheckpoint(datasource_path, monitor='val_accuracy', verbose=1, save_best_only=True, mode='max')\n",
        "callbacks_list = [checkpoint]\n",
        "start_time = time.time()\n",
        "history = model.fit(\n",
        "      train_generator,\n",
        "      steps_per_epoch=25, \n",
        "      epochs=20,\n",
        "      validation_data=validation_generator, \n",
        "      validation_steps=5, \n",
        "      verbose=2,\n",
        "      callbacks=callbacks_list)\n",
        "print(\"waktu latih: %s detik\" % (time.time() - start_time))"
      ],
      "execution_count": 10,
      "outputs": [
        {
          "output_type": "stream",
          "text": [
            "Epoch 1/20\n",
            "25/25 - 41s - loss: 2.1340 - accuracy: 0.3625 - val_loss: 0.9907 - val_accuracy: 0.4625\n",
            "\n",
            "Epoch 00001: val_accuracy improved from -inf to 0.46250, saving model to /tmp/rockpaperscissors\n",
            "INFO:tensorflow:Assets written to: /tmp/rockpaperscissors/assets\n",
            "Epoch 2/20\n",
            "25/25 - 39s - loss: 0.8358 - accuracy: 0.6418 - val_loss: 0.8509 - val_accuracy: 0.6687\n",
            "\n",
            "Epoch 00002: val_accuracy improved from 0.46250 to 0.66875, saving model to /tmp/rockpaperscissors\n",
            "INFO:tensorflow:Assets written to: /tmp/rockpaperscissors/assets\n",
            "Epoch 3/20\n",
            "25/25 - 39s - loss: 0.5371 - accuracy: 0.7862 - val_loss: 0.4669 - val_accuracy: 0.8500\n",
            "\n",
            "Epoch 00003: val_accuracy improved from 0.66875 to 0.85000, saving model to /tmp/rockpaperscissors\n",
            "INFO:tensorflow:Assets written to: /tmp/rockpaperscissors/assets\n",
            "Epoch 4/20\n",
            "25/25 - 39s - loss: 0.4055 - accuracy: 0.8600 - val_loss: 0.4482 - val_accuracy: 0.8188\n",
            "\n",
            "Epoch 00004: val_accuracy did not improve from 0.85000\n",
            "Epoch 5/20\n",
            "25/25 - 39s - loss: 0.3905 - accuracy: 0.8468 - val_loss: 0.3169 - val_accuracy: 0.9000\n",
            "\n",
            "Epoch 00005: val_accuracy improved from 0.85000 to 0.90000, saving model to /tmp/rockpaperscissors\n",
            "INFO:tensorflow:Assets written to: /tmp/rockpaperscissors/assets\n",
            "Epoch 6/20\n",
            "25/25 - 39s - loss: 0.2545 - accuracy: 0.8987 - val_loss: 0.2802 - val_accuracy: 0.9062\n",
            "\n",
            "Epoch 00006: val_accuracy improved from 0.90000 to 0.90625, saving model to /tmp/rockpaperscissors\n",
            "INFO:tensorflow:Assets written to: /tmp/rockpaperscissors/assets\n",
            "Epoch 7/20\n",
            "25/25 - 40s - loss: 0.2507 - accuracy: 0.9175 - val_loss: 0.3459 - val_accuracy: 0.8625\n",
            "\n",
            "Epoch 00007: val_accuracy did not improve from 0.90625\n",
            "Epoch 8/20\n",
            "25/25 - 39s - loss: 0.1884 - accuracy: 0.9325 - val_loss: 0.3744 - val_accuracy: 0.8875\n",
            "\n",
            "Epoch 00008: val_accuracy did not improve from 0.90625\n",
            "Epoch 9/20\n",
            "25/25 - 39s - loss: 0.2182 - accuracy: 0.9228 - val_loss: 0.2091 - val_accuracy: 0.9312\n",
            "\n",
            "Epoch 00009: val_accuracy improved from 0.90625 to 0.93125, saving model to /tmp/rockpaperscissors\n",
            "INFO:tensorflow:Assets written to: /tmp/rockpaperscissors/assets\n",
            "Epoch 10/20\n",
            "25/25 - 39s - loss: 0.1585 - accuracy: 0.9506 - val_loss: 0.0971 - val_accuracy: 0.9812\n",
            "\n",
            "Epoch 00010: val_accuracy improved from 0.93125 to 0.98125, saving model to /tmp/rockpaperscissors\n",
            "INFO:tensorflow:Assets written to: /tmp/rockpaperscissors/assets\n",
            "Epoch 11/20\n",
            "25/25 - 39s - loss: 0.1091 - accuracy: 0.9650 - val_loss: 0.2110 - val_accuracy: 0.9250\n",
            "\n",
            "Epoch 00011: val_accuracy did not improve from 0.98125\n",
            "Epoch 12/20\n",
            "25/25 - 39s - loss: 0.1222 - accuracy: 0.9557 - val_loss: 0.1633 - val_accuracy: 0.9375\n",
            "\n",
            "Epoch 00012: val_accuracy did not improve from 0.98125\n",
            "Epoch 13/20\n",
            "25/25 - 40s - loss: 0.1050 - accuracy: 0.9638 - val_loss: 0.3296 - val_accuracy: 0.9000\n",
            "\n",
            "Epoch 00013: val_accuracy did not improve from 0.98125\n",
            "Epoch 14/20\n",
            "25/25 - 39s - loss: 0.1074 - accuracy: 0.9625 - val_loss: 0.1669 - val_accuracy: 0.9500\n",
            "\n",
            "Epoch 00014: val_accuracy did not improve from 0.98125\n",
            "Epoch 15/20\n",
            "25/25 - 39s - loss: 0.0925 - accuracy: 0.9712 - val_loss: 0.1349 - val_accuracy: 0.9500\n",
            "\n",
            "Epoch 00015: val_accuracy did not improve from 0.98125\n",
            "Epoch 16/20\n",
            "25/25 - 39s - loss: 0.1010 - accuracy: 0.9638 - val_loss: 0.0694 - val_accuracy: 0.9750\n",
            "\n",
            "Epoch 00016: val_accuracy did not improve from 0.98125\n",
            "Epoch 17/20\n",
            "25/25 - 39s - loss: 0.1209 - accuracy: 0.9638 - val_loss: 0.1704 - val_accuracy: 0.9500\n",
            "\n",
            "Epoch 00017: val_accuracy did not improve from 0.98125\n",
            "Epoch 18/20\n",
            "25/25 - 39s - loss: 0.1235 - accuracy: 0.9600 - val_loss: 0.0980 - val_accuracy: 0.9688\n",
            "\n",
            "Epoch 00018: val_accuracy did not improve from 0.98125\n",
            "Epoch 19/20\n",
            "25/25 - 39s - loss: 0.0919 - accuracy: 0.9671 - val_loss: 0.0976 - val_accuracy: 0.9625\n",
            "\n",
            "Epoch 00019: val_accuracy did not improve from 0.98125\n",
            "Epoch 20/20\n",
            "25/25 - 39s - loss: 0.1141 - accuracy: 0.9625 - val_loss: 0.1173 - val_accuracy: 0.9563\n",
            "\n",
            "Epoch 00020: val_accuracy did not improve from 0.98125\n",
            "waktu latih: 1020.0130169391632 detik\n"
          ],
          "name": "stdout"
        }
      ]
    },
    {
      "cell_type": "markdown",
      "metadata": {
        "id": "lKWsKlNpC1w4"
      },
      "source": [
        "# Plot Training Loss vs Validation loss\n",
        "Dari plot di bawah terlihat bahwa berdasarkan training loss dengan validation loss mengindikasikan model *good fit* dengan tidak *overfitting* maupun *underfitting*. "
      ]
    },
    {
      "cell_type": "code",
      "metadata": {
        "colab": {
          "base_uri": "https://localhost:8080/",
          "height": 279
        },
        "id": "YA7KCzWU8paX",
        "outputId": "c38f752e-e285-4241-94d3-d6cf097536c8"
      },
      "source": [
        "train_loss = history.history['loss']\n",
        "validation_loss = history.history['val_loss']\n",
        "epoch_count = range(1, len(train_loss) + 1)\n",
        "\n",
        "plt.plot(epoch_count, train_loss, 'y', label=\"Training Loss\")\n",
        "plt.plot(epoch_count, validation_loss, 'r', label=\"Validation Loss\")\n",
        "plt.legend(['Training Loss', 'Validation Loss'])\n",
        "plt.xlabel('Epoch')\n",
        "plt.ylabel('Loss')\n",
        "plt.show()"
      ],
      "execution_count": 11,
      "outputs": [
        {
          "output_type": "display_data",
          "data": {
            "image/png": "[encoded data removed]",
            "text/plain": [
              "<Figure size 432x288 with 1 Axes>"
            ]
          },
          "metadata": {
            "tags": [],
            "needs_background": "light"
          }
        }
      ]
    },
    {
      "cell_type": "markdown",
      "metadata": {
        "id": "7kvIHMizC7sB"
      },
      "source": [
        "# Plot Training Accuracy vs Validation Accuracy\n",
        "Dari plot di bawah terlihat bahwa berdasarkan training accuracy dengan validation accuracy mengindikasikan model *good fit* dengan tidak *overfitting* maupun *underfitting*. "
      ]
    },
    {
      "cell_type": "code",
      "metadata": {
        "colab": {
          "base_uri": "https://localhost:8080/",
          "height": 279
        },
        "id": "qHzmpAwLCMDL",
        "outputId": "20fabb1e-bbcd-4e7f-f375-3a189b9934e8"
      },
      "source": [
        "train_loss = history.history['accuracy']\n",
        "validation_loss = history.history['val_accuracy']\n",
        "epoch_count = range(1, len(train_loss) + 1)\n",
        "\n",
        "plt.plot(epoch_count, train_loss, 'y', label=\"Training Accuracy\")\n",
        "plt.plot(epoch_count, validation_loss, 'r', label=\"Validation Accuracy\")\n",
        "plt.legend(['Training Accuracy', 'Validation Accuracy'])\n",
        "plt.xlabel('Epoch')\n",
        "plt.ylabel('Accuracy')\n",
        "plt.show()"
      ],
      "execution_count": 12,
      "outputs": [
        {
          "output_type": "display_data",
          "data": {
            "image/png": "[encoded data removed]",
            "text/plain": [
              "<Figure size 432x288 with 1 Axes>"
            ]
          },
          "metadata": {
            "tags": [],
            "needs_background": "light"
          }
        }
      ]
    },
    {
      "cell_type": "markdown",
      "metadata": {
        "id": "II_zPQwDDDsR"
      },
      "source": [
        "# Membuat Model dalam Format tflite\n"
      ]
    },
    {
      "cell_type": "code",
      "metadata": {
        "colab": {
          "base_uri": "https://localhost:8080/"
        },
        "id": "opQoRVYY8rQv",
        "outputId": "8fabbd50-615c-4e66-f22b-e48bad63031a"
      },
      "source": [
        "# Konversi model.\n",
        "converter = tf.lite.TFLiteConverter.from_keras_model(model)\n",
        "tflite_model = converter.convert()\n",
        "\n",
        "with tf.io.gfile.GFile('model.tflite', 'wb') as f:\n",
        "  f.write(tflite_model)"
      ],
      "execution_count": 13,
      "outputs": [
        {
          "output_type": "stream",
          "text": [
            "INFO:tensorflow:Assets written to: /tmp/tmpo9yagh9k/assets\n"
          ],
          "name": "stdout"
        }
      ]
    }
  ]
}